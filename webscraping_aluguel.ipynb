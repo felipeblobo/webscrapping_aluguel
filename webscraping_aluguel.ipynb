{
  "nbformat": 4,
  "nbformat_minor": 0,
  "metadata": {
    "colab": {
      "name": "webscraping_aluguel.ipynb",
      "provenance": [],
      "authorship_tag": "ABX9TyPqAmDVdAy0q4hlGgcvWGdO",
      "include_colab_link": true
    },
    "kernelspec": {
      "name": "python3",
      "display_name": "Python 3"
    }
  },
  "cells": [
    {
      "cell_type": "markdown",
      "metadata": {
        "id": "view-in-github",
        "colab_type": "text"
      },
      "source": [
        "<a href=\"https://colab.research.google.com/github/felipeblobo/webscrapping_aluguel/blob/main/webscraping_aluguel.ipynb\" target=\"_parent\"><img src=\"https://colab.research.google.com/assets/colab-badge.svg\" alt=\"Open In Colab\"/></a>"
      ]
    },
    {
      "cell_type": "code",
      "metadata": {
        "id": "1zZRRh0oBquB"
      },
      "source": [
        "from bs4 import BeautifulSoup\r\n",
        "from urllib.request import urlopen\r\n",
        "import pandas as pd"
      ],
      "execution_count": null,
      "outputs": []
    },
    {
      "cell_type": "code",
      "metadata": {
        "id": "8aqEkF4HI6kl"
      },
      "source": [
        "url_sobre = 'https://ocean-web-scraping.herokuapp.com/sobre.html'\r\n",
        "url_busca = 'https://ocean-web-scraping.herokuapp.com/'\r\n",
        "url_corretoras = 'https://ocean-web-scraping.herokuapp.com/corretoras.html'"
      ],
      "execution_count": null,
      "outputs": []
    },
    {
      "cell_type": "code",
      "metadata": {
        "colab": {
          "base_uri": "https://localhost:8080/"
        },
        "id": "jvmOTts_Ygbe",
        "outputId": "75250178-e75c-43b9-bd1a-851bd7933bd2"
      },
      "source": [
        "response_sobre = urlopen(url_sobre)\r\n",
        "html_sobre = response_sobre.read()\r\n",
        "html_sobre"
      ],
      "execution_count": null,
      "outputs": [
        {
          "output_type": "execute_result",
          "data": {
            "text/plain": [
              "b'<!DOCTYPE html>\\n<html lang=\"pt-br\">\\n\\t<head>\\n\\t\\t<meta charset=\"UTF-8\">\\n\\t\\t<meta name=\"viewport\" content=\"width=device-width\">\\n\\n\\t\\t<title>Oceano de Alugu\\xc3\\xa9is</title>\\n\\t\\t\\n\\t\\t<link rel=\"stylesheet\" href=\"reset.css\">\\n\\t\\t<link rel=\"stylesheet\" href=\"style.css\">\\n\\t\\t<link href=\"https://fonts.googleapis.com/css?family=Montserrat&display=swap\" rel=\"stylesheet\">\\n\\t</head>\\n\\n\\t<body>\\n\\t\\t<header>\\n\\t\\t\\t<div>\\n\\t\\t\\t\\t<img src=\"imagens/oceano-logo.png\">\\n\\t\\t\\t\\t<h1>Oceano de Alugu\\xc3\\xa9is</h1>\\n\\t\\t\\t\\t<nav>\\n\\t\\t\\t\\t\\t<ul>\\n\\t\\t\\t\\t\\t\\t<li><a href=\"results&page=1.html\">Resultados</a></li>\\n\\t\\t\\t\\t\\t\\t<li><a href=\"corretoras.html\">Corretoras</a></li>\\n\\t\\t\\t\\t\\t\\t<li><a href=\"sobre.html\">Sobre</a></li>\\n\\t\\t\\t\\t\\t</ul>\\n\\t\\t\\t\\t</nav>\\n\\t\\t\\t</div>\\n\\t\\t</header>\\n\\n\\t\\t<main>\\n\\t\\t\\t<div class=\"about\">\\n\\t\\t\\t\\t<h2>Sobre este site</h2>\\n\\n\\t\\t\\t\\t<p>Este site foi criado para treinamentos de Web Scraping do <a href=\"http://www.oceanbrasil.com/\">Ocean</a>.</p>\\n\\n\\t\\t\\t\\t<p>Vamos para os primeiros desafios?</p>\\n\\n\\t\\t\\t\\t<ol>\\n\\t\\t\\t\\t\\t<li>Que tal coletar o texto <em>\"Sobre este site\"</em> para come\\xc3\\xa7ar?</li>\\n\\t\\t\\t\\t\\t<li>Agora extraia o link contido na palavra <em>\"Ocean\"</em>.</li>\\n\\t\\t\\t\\t\\t<li>Em seguida, colete todos os itens desta lista.</li>\\n\\t\\t\\t\\t\\t<li>Por fim, colete apenas este \\xc3\\xbaltimo item da lista.</li>\\n\\t\\t\\t\\t</ol>\\n\\t\\t\\t</div>\\n\\t\\t</main>\\n\\n\\t\\t<footer>\\n\\t\\t\\t<img src=\"imagens/oceano-logo-cinza.png\">\\n\\t\\t\\t<p>Site criado para o curso de Web Scraping do Ocean</p>\\n\\t\\t</footer>\\n\\t</body>\\n</html>'"
            ]
          },
          "metadata": {
            "tags": []
          },
          "execution_count": 3
        }
      ]
    },
    {
      "cell_type": "code",
      "metadata": {
        "colab": {
          "base_uri": "https://localhost:8080/"
        },
        "id": "nEFxh_BNYghK",
        "outputId": "92ac7686-7875-4bed-d630-38388e805e10"
      },
      "source": [
        "soup_sobre = BeautifulSoup(html_sobre, 'html.parser')\r\n",
        "soup_sobre"
      ],
      "execution_count": null,
      "outputs": [
        {
          "output_type": "execute_result",
          "data": {
            "text/plain": [
              "<!DOCTYPE html>\n",
              "\n",
              "<html lang=\"pt-br\">\n",
              "<head>\n",
              "<meta charset=\"utf-8\"/>\n",
              "<meta content=\"width=device-width\" name=\"viewport\"/>\n",
              "<title>Oceano de Aluguéis</title>\n",
              "<link href=\"reset.css\" rel=\"stylesheet\"/>\n",
              "<link href=\"style.css\" rel=\"stylesheet\"/>\n",
              "<link href=\"https://fonts.googleapis.com/css?family=Montserrat&amp;display=swap\" rel=\"stylesheet\"/>\n",
              "</head>\n",
              "<body>\n",
              "<header>\n",
              "<div>\n",
              "<img src=\"imagens/oceano-logo.png\"/>\n",
              "<h1>Oceano de Aluguéis</h1>\n",
              "<nav>\n",
              "<ul>\n",
              "<li><a href=\"results&amp;page=1.html\">Resultados</a></li>\n",
              "<li><a href=\"corretoras.html\">Corretoras</a></li>\n",
              "<li><a href=\"sobre.html\">Sobre</a></li>\n",
              "</ul>\n",
              "</nav>\n",
              "</div>\n",
              "</header>\n",
              "<main>\n",
              "<div class=\"about\">\n",
              "<h2>Sobre este site</h2>\n",
              "<p>Este site foi criado para treinamentos de Web Scraping do <a href=\"http://www.oceanbrasil.com/\">Ocean</a>.</p>\n",
              "<p>Vamos para os primeiros desafios?</p>\n",
              "<ol>\n",
              "<li>Que tal coletar o texto <em>\"Sobre este site\"</em> para começar?</li>\n",
              "<li>Agora extraia o link contido na palavra <em>\"Ocean\"</em>.</li>\n",
              "<li>Em seguida, colete todos os itens desta lista.</li>\n",
              "<li>Por fim, colete apenas este último item da lista.</li>\n",
              "</ol>\n",
              "</div>\n",
              "</main>\n",
              "<footer>\n",
              "<img src=\"imagens/oceano-logo-cinza.png\"/>\n",
              "<p>Site criado para o curso de Web Scraping do Ocean</p>\n",
              "</footer>\n",
              "</body>\n",
              "</html>"
            ]
          },
          "metadata": {
            "tags": []
          },
          "execution_count": 4
        }
      ]
    },
    {
      "cell_type": "code",
      "metadata": {
        "colab": {
          "base_uri": "https://localhost:8080/"
        },
        "id": "s1VYRnE9YgnF",
        "outputId": "2e57e9b3-4489-406a-b0e2-a903a624b652"
      },
      "source": [
        "response_busca = urlopen(url_busca)\r\n",
        "html_busca = response_busca.read()\r\n",
        "html_busca"
      ],
      "execution_count": null,
      "outputs": [
        {
          "output_type": "execute_result",
          "data": {
            "text/plain": [
              "b'<!DOCTYPE html>\\n<html lang=\"pt-br\">\\n\\t<head>\\n\\t\\t<meta charset=\"UTF-8\">\\n\\t\\t<meta name=\"viewport\" content=\"width=device-width\">\\n\\n\\t\\t<title>Oceano de Alugu\\xc3\\xa9is</title>\\n\\t\\t\\n\\t\\t<link rel=\"stylesheet\" href=\"reset.css\">\\n\\t\\t<link rel=\"stylesheet\" href=\"style.css\">\\n\\t\\t<link href=\"https://fonts.googleapis.com/css?family=Montserrat&display=swap\" rel=\"stylesheet\">\\n\\t</head>\\n\\n\\t<body>\\n\\t\\t<header>\\n\\t\\t\\t<div>\\n\\t\\t\\t\\t<img src=\"imagens/oceano-logo.png\">\\n\\t\\t\\t\\t<h1>Oceano de Alugu\\xc3\\xa9is</h1>\\n\\t\\t\\t\\t<nav>\\n\\t\\t\\t\\t\\t<ul>\\n\\t\\t\\t\\t\\t\\t<li><a href=\"results&page=1.html\">Resultados</a></li>\\n\\t\\t\\t\\t\\t\\t<li><a href=\"corretoras.html\">Corretoras</a></li>\\n\\t\\t\\t\\t\\t\\t<li><a href=\"sobre.html\">Sobre</a></li>\\n\\t\\t\\t\\t\\t</ul>\\n\\t\\t\\t\\t</nav>\\n\\t\\t\\t</div>\\n\\t\\t</header>\\n\\n\\t\\t<main>\\n\\t\\t\\t<div class=\"ad-card-list\">\\n\\t\\t\\t\\t<p>21 resultados obtidos - P\\xc3\\xa1gina 1</p>\\n\\n\\t\\t\\t\\t<div class=\"ad-card\">\\n\\t\\t\\t\\t\\t<img src=\"imagens/apto-01.jpg\" class=\"apto-img\">\\n\\t\\t\\t\\t\\t\\n\\t\\t\\t\\t\\t<div class=\"ad-card-info\">\\n\\t\\t\\t\\t\\t\\t<h2>Lindo apartamento para alugar</h2>\\n\\n\\t\\t\\t\\t\\t\\t<ul class=\"features\">\\n\\t\\t\\t\\t\\t\\t\\t<li><img src=\"imagens/area.png\"> 100 m\\xc2\\xb2</li>\\n\\t\\t\\t\\t\\t\\t\\t<li><img src=\"imagens/bedrooms.png\"> 3 quarto(s)</li>\\n\\t\\t\\t\\t\\t\\t\\t<li><img src=\"imagens/toilet.png\"> 2 banheiro(s)</li>\\n\\t\\t\\t\\t\\t\\t\\t<li><img src=\"imagens/parking.png\"> 2 vaga(s)</li>\\n\\t\\t\\t\\t\\t\\t</ul>\\n\\n\\t\\t\\t\\t\\t\\t<ul class=\"resources\">\\n\\t\\t\\t\\t\\t\\t\\t<li>Mobiliado</li>\\n\\t\\t\\t\\t\\t\\t\\t<li>Portaria 24h</li>\\n\\t\\t\\t\\t\\t\\t\\t<li>Elevador</li>\\n\\t\\t\\t\\t\\t\\t\\t<li>Piscina</li>\\n\\t\\t\\t\\t\\t\\t\\t<li>Churrasqueira</li>\\n\\t\\t\\t\\t\\t\\t\\t<li>Sal\\xc3\\xa3o de Festas</li>\\n\\t\\t\\t\\t\\t\\t\\t<li>Academia</li>\\n\\t\\t\\t\\t\\t\\t\\t<li>Playground</li>\\n\\t\\t\\t\\t\\t\\t\\t<li>Quadra poliesportiva</li>\\n\\t\\t\\t\\t\\t\\t\\t<li>Sal\\xc3\\xa3o de jogos</li>\\n\\t\\t\\t\\t\\t\\t\\t<li>Aceita animais</li>\\n\\t\\t\\t\\t\\t\\t</ul>\\n\\n\\t\\t\\t\\t\\t\\t<p>Localiza\\xc3\\xa7\\xc3\\xa3o: Oceano Pac\\xc3\\xadfico</p>\\n\\t\\t\\t\\t\\t</div>\\n\\n\\t\\t\\t\\t\\t<div class=\"ad-card-price\">\\n\\t\\t\\t\\t\\t\\t<p>Aluguel: R$ 4.000,00</p>\\n\\t\\t\\t\\t\\t\\t<p>Condom\\xc3\\xadnio: 500,00</p>\\n\\t\\t\\t\\t\\t\\t<p>IPTU: R$ 100,00</p>\\n\\t\\t\\t\\t\\t\\t<p>Corretora: Tubar\\xc3\\xa3o</p>\\n\\t\\t\\t\\t\\t</div>\\n\\t\\t\\t\\t</div>\\n\\n\\t\\t\\t\\t<div class=\"ad-card\">\\n\\t\\t\\t\\t\\t<img src=\"imagens/apto-02.jpg\" class=\"apto-img\">\\n\\t\\t\\t\\t\\t\\n\\t\\t\\t\\t\\t<div class=\"ad-card-info\">\\n\\t\\t\\t\\t\\t\\t<h2>\\xc3\\x93timo lugar para morar</h2>\\n\\n\\t\\t\\t\\t\\t\\t<ul class=\"features\">\\n\\t\\t\\t\\t\\t\\t\\t<li><img src=\"imagens/area.png\"> 60 m\\xc2\\xb2</li>\\n\\t\\t\\t\\t\\t\\t\\t<li><img src=\"imagens/bedrooms.png\"> 2 quarto(s)</li>\\n\\t\\t\\t\\t\\t\\t\\t<li><img src=\"imagens/toilet.png\"> 2 banheiro(s)</li>\\n\\t\\t\\t\\t\\t\\t\\t<li><img src=\"imagens/parking.png\"> 1 vaga(s)</li>\\n\\t\\t\\t\\t\\t\\t</ul>\\n\\n\\t\\t\\t\\t\\t\\t<ul class=\"resources\">\\n\\t\\t\\t\\t\\t\\t\\t<li>Mobiliado</li>\\n\\t\\t\\t\\t\\t\\t\\t<li>Portaria 24h</li>\\n\\t\\t\\t\\t\\t\\t\\t<li>Sal\\xc3\\xa3o de Festas</li>\\n\\t\\t\\t\\t\\t\\t\\t<li>Quadra poliesportiva</li>\\n\\t\\t\\t\\t\\t\\t</ul>\\n\\n\\t\\t\\t\\t\\t\\t<p>Localiza\\xc3\\xa7\\xc3\\xa3o: Oceano \\xc3\\x8dndico</p>\\n\\t\\t\\t\\t\\t</div>\\n\\n\\t\\t\\t\\t\\t<div class=\"ad-card-price\">\\n\\t\\t\\t\\t\\t\\t<p>Aluguel: R$ 2.000,00</p>\\n\\t\\t\\t\\t\\t\\t<p>Condom\\xc3\\xadnio: 200,00</p>\\n\\t\\t\\t\\t\\t\\t<p>IPTU: R$ 50,00</p>\\n\\t\\t\\t\\t\\t\\t<p>Corretora: Carangueijo</p>\\n\\t\\t\\t\\t\\t</div>\\n\\t\\t\\t\\t</div>\\n\\n\\t\\t\\t\\t<div class=\"ad-card\">\\n\\t\\t\\t\\t\\t<img src=\"imagens/apto-03.jpg\" class=\"apto-img\">\\n\\t\\t\\t\\t\\t\\n\\t\\t\\t\\t\\t<div class=\"ad-card-info\">\\n\\t\\t\\t\\t\\t\\t<h2>Bel\\xc3\\xadssimo apartamento mobiliado</h2>\\n\\n\\t\\t\\t\\t\\t\\t<ul class=\"features\">\\n\\t\\t\\t\\t\\t\\t\\t<li><img src=\"imagens/area.png\"> 50 m\\xc2\\xb2</li>\\n\\t\\t\\t\\t\\t\\t\\t<li><img src=\"imagens/bedrooms.png\"> 1 quarto(s)</li>\\n\\t\\t\\t\\t\\t\\t\\t<li><img src=\"imagens/toilet.png\"> 1 banheiro(s)</li>\\n\\t\\t\\t\\t\\t\\t\\t<li><img src=\"imagens/parking.png\"> 1 vaga(s)</li>\\n\\t\\t\\t\\t\\t\\t</ul>\\n\\n\\t\\t\\t\\t\\t\\t<ul class=\"resources\">\\n\\t\\t\\t\\t\\t\\t\\t<li>Mobiliado</li>\\n\\t\\t\\t\\t\\t\\t</ul>\\n\\n\\t\\t\\t\\t\\t\\t<p>Localiza\\xc3\\xa7\\xc3\\xa3o: Mar de Java</p>\\n\\t\\t\\t\\t\\t</div>\\n\\n\\t\\t\\t\\t\\t<div class=\"ad-card-price\">\\n\\t\\t\\t\\t\\t\\t<p>Aluguel: R$ 1.300,00</p>\\n\\t\\t\\t\\t\\t\\t<p>Condom\\xc3\\xadnio: 200,00</p>\\n\\t\\t\\t\\t\\t\\t<p>IPTU: R$ 50,00</p>\\n\\t\\t\\t\\t\\t\\t<p>Corretora: Baleia Azul</p>\\n\\t\\t\\t\\t\\t</div>\\n\\t\\t\\t\\t</div>\\n\\n\\t\\t\\t\\t<div class=\"ad-card\">\\n\\t\\t\\t\\t\\t<img src=\"imagens/apto-04.jpg\" class=\"apto-img\">\\n\\t\\t\\t\\t\\t\\n\\t\\t\\t\\t\\t<div class=\"ad-card-info\">\\n\\t\\t\\t\\t\\t\\t<h2>Um cantinho todo seu</h2>\\n\\n\\t\\t\\t\\t\\t\\t<ul class=\"features\">\\n\\t\\t\\t\\t\\t\\t\\t<li><img src=\"imagens/area.png\"> 60 m\\xc2\\xb2</li>\\n\\t\\t\\t\\t\\t\\t\\t<li><img src=\"imagens/bedrooms.png\"> 2 quarto(s)</li>\\n\\t\\t\\t\\t\\t\\t\\t<li><img src=\"imagens/toilet.png\"> 2 banheiro(s)</li>\\n\\t\\t\\t\\t\\t\\t\\t<li><img src=\"imagens/parking.png\"> 1 vaga(s)</li>\\n\\t\\t\\t\\t\\t\\t</ul>\\n\\n\\t\\t\\t\\t\\t\\t<ul class=\"resources\">\\n\\t\\t\\t\\t\\t\\t\\t<li>Mobiliado</li>\\n\\t\\t\\t\\t\\t\\t\\t<li>Portaria 24h</li>\\n\\t\\t\\t\\t\\t\\t</ul>\\n\\n\\t\\t\\t\\t\\t\\t<p>Localiza\\xc3\\xa7\\xc3\\xa3o: Oceano \\xc3\\x8dndico</p>\\n\\t\\t\\t\\t\\t</div>\\n\\n\\t\\t\\t\\t\\t<div class=\"ad-card-price\">\\n\\t\\t\\t\\t\\t\\t<p>Aluguel: R$ 1.800,00</p>\\n\\t\\t\\t\\t\\t\\t<p>Condom\\xc3\\xadnio: 100,00</p>\\n\\t\\t\\t\\t\\t\\t<p>IPTU: R$ 20,00</p>\\n\\t\\t\\t\\t\\t\\t<p>Corretora: Baleia Azul</p>\\n\\t\\t\\t\\t\\t</div>\\n\\t\\t\\t\\t</div>\\n\\n\\t\\t\\t\\t<div class=\"ad-card\">\\n\\t\\t\\t\\t\\t<img src=\"imagens/apto-05.jpg\" class=\"apto-img\">\\n\\t\\t\\t\\t\\t\\n\\t\\t\\t\\t\\t<div class=\"ad-card-info\">\\n\\t\\t\\t\\t\\t\\t<h2>Alugue j\\xc3\\xa1! \\xc3\\x93tima oportunidade</h2>\\n\\n\\t\\t\\t\\t\\t\\t<ul class=\"features\">\\n\\t\\t\\t\\t\\t\\t\\t<li><img src=\"imagens/area.png\"> 120 m\\xc2\\xb2</li>\\n\\t\\t\\t\\t\\t\\t\\t<li><img src=\"imagens/bedrooms.png\"> 4 quarto(s)</li>\\n\\t\\t\\t\\t\\t\\t\\t<li><img src=\"imagens/toilet.png\"> 3 banheiro(s)</li>\\n\\t\\t\\t\\t\\t\\t\\t<li><img src=\"imagens/parking.png\"> 2 vaga(s)</li>\\n\\t\\t\\t\\t\\t\\t</ul>\\n\\n\\t\\t\\t\\t\\t\\t<ul class=\"resources\">\\n\\t\\t\\t\\t\\t\\t\\t<li>Mobiliado</li>\\n\\t\\t\\t\\t\\t\\t\\t<li>Portaria 24h</li>\\n\\t\\t\\t\\t\\t\\t\\t<li>Elevador</li>\\n\\t\\t\\t\\t\\t\\t\\t<li>Piscina</li>\\n\\t\\t\\t\\t\\t\\t\\t<li>Churrasqueira</li>\\n\\t\\t\\t\\t\\t\\t\\t<li>Sal\\xc3\\xa3o de Festas</li>\\n\\t\\t\\t\\t\\t\\t\\t<li>Academia</li>\\n\\t\\t\\t\\t\\t\\t\\t<li>Playground</li>\\n\\t\\t\\t\\t\\t\\t\\t<li>Quadra poliesportiva</li>\\n\\t\\t\\t\\t\\t\\t\\t<li>Sal\\xc3\\xa3o de jogos</li>\\n\\t\\t\\t\\t\\t\\t\\t<li>Aceita animais</li>\\n\\t\\t\\t\\t\\t\\t</ul>\\n\\n\\t\\t\\t\\t\\t\\t<p>Localiza\\xc3\\xa7\\xc3\\xa3o: Oceano Pac\\xc3\\xadfico</p>\\n\\t\\t\\t\\t\\t</div>\\n\\n\\t\\t\\t\\t\\t<div class=\"ad-card-price\">\\n\\t\\t\\t\\t\\t\\t<p>Aluguel: R$ 3.800,00</p>\\n\\t\\t\\t\\t\\t\\t<p>Condom\\xc3\\xadnio: 500,00</p>\\n\\t\\t\\t\\t\\t\\t<p>IPTU: R$ 200,00</p>\\n\\t\\t\\t\\t\\t\\t<p>Corretora: Tubar\\xc3\\xa3o</p>\\n\\t\\t\\t\\t\\t</div>\\n\\t\\t\\t\\t</div>\\n\\t\\t\\t</div>\\n\\n\\t\\t\\t<div class=\"pagination\">\\n  \\t\\t\\t\\t<a class=\"inactive\" href=\"#\">&laquo;</a>\\n  \\t\\t\\t\\t<a class=\"active\" href=\"#\">1</a>\\n  \\t\\t\\t\\t<a href=\"results&page=2.html\">2</a>\\n  \\t\\t\\t\\t<a href=\"results&page=3.html\">3</a>\\n\\t\\t\\t\\t<a href=\"results&page=2.html\">&raquo;</a>\\n\\t\\t\\t</div>\\n\\t\\t</main>\\n\\n\\t\\t<footer>\\n\\t\\t\\t<img src=\"imagens/oceano-logo-cinza.png\">\\n\\t\\t\\t<p>Site criado para o curso de Web Scraping do Ocean</p>\\n\\t\\t</footer>\\n\\t</body>\\n</html>'"
            ]
          },
          "metadata": {
            "tags": []
          },
          "execution_count": 5
        }
      ]
    },
    {
      "cell_type": "code",
      "metadata": {
        "colab": {
          "base_uri": "https://localhost:8080/"
        },
        "id": "tlawlDXwYgst",
        "outputId": "59414c68-bc8c-4a2b-d0b9-df8193c9c817"
      },
      "source": [
        "soup_busca = BeautifulSoup(html_busca, 'html.parser')\r\n",
        "soup_busca"
      ],
      "execution_count": null,
      "outputs": [
        {
          "output_type": "execute_result",
          "data": {
            "text/plain": [
              "<!DOCTYPE html>\n",
              "\n",
              "<html lang=\"pt-br\">\n",
              "<head>\n",
              "<meta charset=\"utf-8\"/>\n",
              "<meta content=\"width=device-width\" name=\"viewport\"/>\n",
              "<title>Oceano de Aluguéis</title>\n",
              "<link href=\"reset.css\" rel=\"stylesheet\"/>\n",
              "<link href=\"style.css\" rel=\"stylesheet\"/>\n",
              "<link href=\"https://fonts.googleapis.com/css?family=Montserrat&amp;display=swap\" rel=\"stylesheet\"/>\n",
              "</head>\n",
              "<body>\n",
              "<header>\n",
              "<div>\n",
              "<img src=\"imagens/oceano-logo.png\"/>\n",
              "<h1>Oceano de Aluguéis</h1>\n",
              "<nav>\n",
              "<ul>\n",
              "<li><a href=\"results&amp;page=1.html\">Resultados</a></li>\n",
              "<li><a href=\"corretoras.html\">Corretoras</a></li>\n",
              "<li><a href=\"sobre.html\">Sobre</a></li>\n",
              "</ul>\n",
              "</nav>\n",
              "</div>\n",
              "</header>\n",
              "<main>\n",
              "<div class=\"ad-card-list\">\n",
              "<p>21 resultados obtidos - Página 1</p>\n",
              "<div class=\"ad-card\">\n",
              "<img class=\"apto-img\" src=\"imagens/apto-01.jpg\"/>\n",
              "<div class=\"ad-card-info\">\n",
              "<h2>Lindo apartamento para alugar</h2>\n",
              "<ul class=\"features\">\n",
              "<li><img src=\"imagens/area.png\"/> 100 m²</li>\n",
              "<li><img src=\"imagens/bedrooms.png\"/> 3 quarto(s)</li>\n",
              "<li><img src=\"imagens/toilet.png\"/> 2 banheiro(s)</li>\n",
              "<li><img src=\"imagens/parking.png\"/> 2 vaga(s)</li>\n",
              "</ul>\n",
              "<ul class=\"resources\">\n",
              "<li>Mobiliado</li>\n",
              "<li>Portaria 24h</li>\n",
              "<li>Elevador</li>\n",
              "<li>Piscina</li>\n",
              "<li>Churrasqueira</li>\n",
              "<li>Salão de Festas</li>\n",
              "<li>Academia</li>\n",
              "<li>Playground</li>\n",
              "<li>Quadra poliesportiva</li>\n",
              "<li>Salão de jogos</li>\n",
              "<li>Aceita animais</li>\n",
              "</ul>\n",
              "<p>Localização: Oceano Pacífico</p>\n",
              "</div>\n",
              "<div class=\"ad-card-price\">\n",
              "<p>Aluguel: R$ 4.000,00</p>\n",
              "<p>Condomínio: 500,00</p>\n",
              "<p>IPTU: R$ 100,00</p>\n",
              "<p>Corretora: Tubarão</p>\n",
              "</div>\n",
              "</div>\n",
              "<div class=\"ad-card\">\n",
              "<img class=\"apto-img\" src=\"imagens/apto-02.jpg\"/>\n",
              "<div class=\"ad-card-info\">\n",
              "<h2>Ótimo lugar para morar</h2>\n",
              "<ul class=\"features\">\n",
              "<li><img src=\"imagens/area.png\"/> 60 m²</li>\n",
              "<li><img src=\"imagens/bedrooms.png\"/> 2 quarto(s)</li>\n",
              "<li><img src=\"imagens/toilet.png\"/> 2 banheiro(s)</li>\n",
              "<li><img src=\"imagens/parking.png\"/> 1 vaga(s)</li>\n",
              "</ul>\n",
              "<ul class=\"resources\">\n",
              "<li>Mobiliado</li>\n",
              "<li>Portaria 24h</li>\n",
              "<li>Salão de Festas</li>\n",
              "<li>Quadra poliesportiva</li>\n",
              "</ul>\n",
              "<p>Localização: Oceano Índico</p>\n",
              "</div>\n",
              "<div class=\"ad-card-price\">\n",
              "<p>Aluguel: R$ 2.000,00</p>\n",
              "<p>Condomínio: 200,00</p>\n",
              "<p>IPTU: R$ 50,00</p>\n",
              "<p>Corretora: Carangueijo</p>\n",
              "</div>\n",
              "</div>\n",
              "<div class=\"ad-card\">\n",
              "<img class=\"apto-img\" src=\"imagens/apto-03.jpg\"/>\n",
              "<div class=\"ad-card-info\">\n",
              "<h2>Belíssimo apartamento mobiliado</h2>\n",
              "<ul class=\"features\">\n",
              "<li><img src=\"imagens/area.png\"/> 50 m²</li>\n",
              "<li><img src=\"imagens/bedrooms.png\"/> 1 quarto(s)</li>\n",
              "<li><img src=\"imagens/toilet.png\"/> 1 banheiro(s)</li>\n",
              "<li><img src=\"imagens/parking.png\"/> 1 vaga(s)</li>\n",
              "</ul>\n",
              "<ul class=\"resources\">\n",
              "<li>Mobiliado</li>\n",
              "</ul>\n",
              "<p>Localização: Mar de Java</p>\n",
              "</div>\n",
              "<div class=\"ad-card-price\">\n",
              "<p>Aluguel: R$ 1.300,00</p>\n",
              "<p>Condomínio: 200,00</p>\n",
              "<p>IPTU: R$ 50,00</p>\n",
              "<p>Corretora: Baleia Azul</p>\n",
              "</div>\n",
              "</div>\n",
              "<div class=\"ad-card\">\n",
              "<img class=\"apto-img\" src=\"imagens/apto-04.jpg\"/>\n",
              "<div class=\"ad-card-info\">\n",
              "<h2>Um cantinho todo seu</h2>\n",
              "<ul class=\"features\">\n",
              "<li><img src=\"imagens/area.png\"/> 60 m²</li>\n",
              "<li><img src=\"imagens/bedrooms.png\"/> 2 quarto(s)</li>\n",
              "<li><img src=\"imagens/toilet.png\"/> 2 banheiro(s)</li>\n",
              "<li><img src=\"imagens/parking.png\"/> 1 vaga(s)</li>\n",
              "</ul>\n",
              "<ul class=\"resources\">\n",
              "<li>Mobiliado</li>\n",
              "<li>Portaria 24h</li>\n",
              "</ul>\n",
              "<p>Localização: Oceano Índico</p>\n",
              "</div>\n",
              "<div class=\"ad-card-price\">\n",
              "<p>Aluguel: R$ 1.800,00</p>\n",
              "<p>Condomínio: 100,00</p>\n",
              "<p>IPTU: R$ 20,00</p>\n",
              "<p>Corretora: Baleia Azul</p>\n",
              "</div>\n",
              "</div>\n",
              "<div class=\"ad-card\">\n",
              "<img class=\"apto-img\" src=\"imagens/apto-05.jpg\"/>\n",
              "<div class=\"ad-card-info\">\n",
              "<h2>Alugue já! Ótima oportunidade</h2>\n",
              "<ul class=\"features\">\n",
              "<li><img src=\"imagens/area.png\"/> 120 m²</li>\n",
              "<li><img src=\"imagens/bedrooms.png\"/> 4 quarto(s)</li>\n",
              "<li><img src=\"imagens/toilet.png\"/> 3 banheiro(s)</li>\n",
              "<li><img src=\"imagens/parking.png\"/> 2 vaga(s)</li>\n",
              "</ul>\n",
              "<ul class=\"resources\">\n",
              "<li>Mobiliado</li>\n",
              "<li>Portaria 24h</li>\n",
              "<li>Elevador</li>\n",
              "<li>Piscina</li>\n",
              "<li>Churrasqueira</li>\n",
              "<li>Salão de Festas</li>\n",
              "<li>Academia</li>\n",
              "<li>Playground</li>\n",
              "<li>Quadra poliesportiva</li>\n",
              "<li>Salão de jogos</li>\n",
              "<li>Aceita animais</li>\n",
              "</ul>\n",
              "<p>Localização: Oceano Pacífico</p>\n",
              "</div>\n",
              "<div class=\"ad-card-price\">\n",
              "<p>Aluguel: R$ 3.800,00</p>\n",
              "<p>Condomínio: 500,00</p>\n",
              "<p>IPTU: R$ 200,00</p>\n",
              "<p>Corretora: Tubarão</p>\n",
              "</div>\n",
              "</div>\n",
              "</div>\n",
              "<div class=\"pagination\">\n",
              "<a class=\"inactive\" href=\"#\">«</a>\n",
              "<a class=\"active\" href=\"#\">1</a>\n",
              "<a href=\"results&amp;page=2.html\">2</a>\n",
              "<a href=\"results&amp;page=3.html\">3</a>\n",
              "<a href=\"results&amp;page=2.html\">»</a>\n",
              "</div>\n",
              "</main>\n",
              "<footer>\n",
              "<img src=\"imagens/oceano-logo-cinza.png\"/>\n",
              "<p>Site criado para o curso de Web Scraping do Ocean</p>\n",
              "</footer>\n",
              "</body>\n",
              "</html>"
            ]
          },
          "metadata": {
            "tags": []
          },
          "execution_count": 6
        }
      ]
    },
    {
      "cell_type": "code",
      "metadata": {
        "colab": {
          "base_uri": "https://localhost:8080/"
        },
        "id": "Gv2m7bnFYgxY",
        "outputId": "d2fb0929-7e90-4260-c0e2-18a477a8659e"
      },
      "source": [
        "response_corretoras = urlopen(url_corretoras)\r\n",
        "html_corretoras = response_corretoras.read()\r\n",
        "html_corretoras"
      ],
      "execution_count": null,
      "outputs": [
        {
          "output_type": "execute_result",
          "data": {
            "text/plain": [
              "b'<!DOCTYPE html>\\n<html lang=\"pt-br\">\\n\\t<head>\\n\\t\\t<meta charset=\"UTF-8\">\\n\\t\\t<meta name=\"viewport\" content=\"width=device-width\">\\n\\n\\t\\t<title>Oceano de Alugu\\xc3\\xa9is</title>\\n\\t\\t\\n\\t\\t<link rel=\"stylesheet\" href=\"reset.css\">\\n\\t\\t<link rel=\"stylesheet\" href=\"style.css\">\\n\\t\\t<link href=\"https://fonts.googleapis.com/css?family=Montserrat&display=swap\" rel=\"stylesheet\">\\n\\t</head>\\n\\n\\t<body>\\n\\t\\t<header>\\n\\t\\t\\t<div>\\n\\t\\t\\t\\t<img src=\"imagens/oceano-logo.png\">\\n\\t\\t\\t\\t<h1>Oceano de Alugu\\xc3\\xa9is</h1>\\n\\t\\t\\t\\t<nav>\\n\\t\\t\\t\\t\\t<ul>\\n\\t\\t\\t\\t\\t\\t<li><a href=\"results&page=1.html\">Resultados</a></li>\\n\\t\\t\\t\\t\\t\\t<li><a href=\"corretoras.html\">Corretoras</a></li>\\n\\t\\t\\t\\t\\t\\t<li><a href=\"sobre.html\">Sobre</a></li>\\n\\t\\t\\t\\t\\t</ul>\\n\\t\\t\\t\\t</nav>\\n\\t\\t\\t</div>\\n\\t\\t</header>\\n\\n\\t\\t<main>\\n\\t\\t\\t<div class=\"contacts\">\\n\\t\\t\\t\\t<table>\\n\\t\\t\\t\\t\\t<thead>\\n\\t\\t\\t\\t\\t\\t<tr>\\n\\t\\t\\t\\t\\t\\t\\t<th>Corretora</th>\\n\\t\\t\\t\\t\\t\\t\\t<th>Contatos</th>\\n\\t\\t\\t\\t\\t\\t</tr>\\n\\t\\t\\t\\t\\t</thead>\\n\\n\\t\\t\\t\\t\\t<tbody>\\n\\t\\t\\t\\t\\t\\t<tr>\\n\\t\\t\\t\\t\\t\\t\\t<td>Tubar\\xc3\\xa3o</td>\\n\\t\\t\\t\\t\\t\\t\\t<td>Jo\\xc3\\xa3o Marinho - Fone:(XX)XXXX-XXXX</td>\\n\\t\\t\\t\\t\\t\\t</tr>\\n\\t\\t\\t\\t\\t\\t<tr>\\n\\t\\t\\t\\t\\t\\t\\t<td>Carangueijo</td>\\n\\t\\t\\t\\t\\t\\t\\t<td>Ana Sirigueijo - Fone:(XX)XXXX-XXXX; Sebasti\\xc3\\xa3o Costa - Fone:(XX)XXXX-XXXX</td>\\n\\t\\t\\t\\t\\t\\t</tr>\\n\\t\\t\\t\\t\\t\\t<tr>\\n\\t\\t\\t\\t\\t\\t\\t<td>Baleia Azul</td>\\n\\t\\t\\t\\t\\t\\t\\t<td>\\n\\t\\t\\t\\t\\t\\t\\t\\t<ul>\\n\\t\\t\\t\\t\\t\\t\\t\\t\\t<li>Alina Ferreira - Fone:(XX)XXXX-XXXX</li>\\n\\t\\t\\t\\t\\t\\t\\t\\t\\t<li>Jorge Matheus - Fone:(XX)XXXX-XXXX</li>\\n\\t\\t\\t\\t\\t\\t\\t\\t</ul>\\n\\t\\t\\t\\t\\t\\t\\t</td>\\n\\t\\t\\t\\t\\t\\t</tr>\\n\\t\\t\\t\\t\\t\\t<tr>\\n\\t\\t\\t\\t\\t\\t\\t<td>Enguia</td>\\n\\t\\t\\t\\t\\t\\t\\t<td><a href=\"pdfs/contatos-enguia.pdf\">Nossos contatos</a></td>\\n\\t\\t\\t\\t\\t\\t</tr>\\n\\t\\t\\t\\t\\t</tbody>\\n\\t\\t\\t\\t</table>\\n\\t\\t\\t</div>\\n\\t\\t</main>\\n\\n\\t\\t<footer>\\n\\t\\t\\t<img src=\"imagens/oceano-logo-cinza.png\">\\n\\t\\t\\t<p>Site criado para o curso de Web Scraping do Ocean</p>\\n\\t\\t</footer>\\n\\t</body>\\n</html>'"
            ]
          },
          "metadata": {
            "tags": []
          },
          "execution_count": 7
        }
      ]
    },
    {
      "cell_type": "code",
      "metadata": {
        "colab": {
          "base_uri": "https://localhost:8080/"
        },
        "id": "ulGiZA1xYg1r",
        "outputId": "6331444e-c459-4f93-aa27-8c394f48a59b"
      },
      "source": [
        "soup_corretoras = BeautifulSoup(html_corretoras, 'html.parser')\r\n",
        "soup_corretoras"
      ],
      "execution_count": null,
      "outputs": [
        {
          "output_type": "execute_result",
          "data": {
            "text/plain": [
              "<!DOCTYPE html>\n",
              "\n",
              "<html lang=\"pt-br\">\n",
              "<head>\n",
              "<meta charset=\"utf-8\"/>\n",
              "<meta content=\"width=device-width\" name=\"viewport\"/>\n",
              "<title>Oceano de Aluguéis</title>\n",
              "<link href=\"reset.css\" rel=\"stylesheet\"/>\n",
              "<link href=\"style.css\" rel=\"stylesheet\"/>\n",
              "<link href=\"https://fonts.googleapis.com/css?family=Montserrat&amp;display=swap\" rel=\"stylesheet\"/>\n",
              "</head>\n",
              "<body>\n",
              "<header>\n",
              "<div>\n",
              "<img src=\"imagens/oceano-logo.png\"/>\n",
              "<h1>Oceano de Aluguéis</h1>\n",
              "<nav>\n",
              "<ul>\n",
              "<li><a href=\"results&amp;page=1.html\">Resultados</a></li>\n",
              "<li><a href=\"corretoras.html\">Corretoras</a></li>\n",
              "<li><a href=\"sobre.html\">Sobre</a></li>\n",
              "</ul>\n",
              "</nav>\n",
              "</div>\n",
              "</header>\n",
              "<main>\n",
              "<div class=\"contacts\">\n",
              "<table>\n",
              "<thead>\n",
              "<tr>\n",
              "<th>Corretora</th>\n",
              "<th>Contatos</th>\n",
              "</tr>\n",
              "</thead>\n",
              "<tbody>\n",
              "<tr>\n",
              "<td>Tubarão</td>\n",
              "<td>João Marinho - Fone:(XX)XXXX-XXXX</td>\n",
              "</tr>\n",
              "<tr>\n",
              "<td>Carangueijo</td>\n",
              "<td>Ana Sirigueijo - Fone:(XX)XXXX-XXXX; Sebastião Costa - Fone:(XX)XXXX-XXXX</td>\n",
              "</tr>\n",
              "<tr>\n",
              "<td>Baleia Azul</td>\n",
              "<td>\n",
              "<ul>\n",
              "<li>Alina Ferreira - Fone:(XX)XXXX-XXXX</li>\n",
              "<li>Jorge Matheus - Fone:(XX)XXXX-XXXX</li>\n",
              "</ul>\n",
              "</td>\n",
              "</tr>\n",
              "<tr>\n",
              "<td>Enguia</td>\n",
              "<td><a href=\"pdfs/contatos-enguia.pdf\">Nossos contatos</a></td>\n",
              "</tr>\n",
              "</tbody>\n",
              "</table>\n",
              "</div>\n",
              "</main>\n",
              "<footer>\n",
              "<img src=\"imagens/oceano-logo-cinza.png\"/>\n",
              "<p>Site criado para o curso de Web Scraping do Ocean</p>\n",
              "</footer>\n",
              "</body>\n",
              "</html>"
            ]
          },
          "metadata": {
            "tags": []
          },
          "execution_count": 8
        }
      ]
    },
    {
      "cell_type": "code",
      "metadata": {
        "colab": {
          "base_uri": "https://localhost:8080/"
        },
        "id": "8zjaboolfrpP",
        "outputId": "ca3c4958-da1a-4805-f833-61edf7011979"
      },
      "source": [
        "\r\n",
        "for resultado in soup_busca.find('div', {'class': 'ad-card-list'}).find_all('div', {'class': 'ad-card'}):\r\n",
        "  \r\n",
        "  li_features = resultado.find(\"ul\", {\"class\": \"features\"}).find_all(\"li\");\r\n",
        "  li_resources = resultado.find(\"ul\", {\"class\": \"resources\"}).find_all(\"li\");\r\n",
        "  prices = resultado.find(\"div\", {\"class\": \"ad-card-price\"}).find_all(\"p\");\r\n",
        "  localizacao = resultado.find('div', {'class': 'ad-card-info'}).find(\"p\").get_text();\r\n",
        "\r\n",
        "  for li in li_features:\r\n",
        "    print(li.get_text());\r\n",
        "  for li in li_resources:\r\n",
        "    print(li.get_text());\r\n",
        "  for price in prices:\r\n",
        "    print(price.get_text());\r\n",
        "  print(localizacao)\r\n",
        "  print(\"------------------------------------\")\r\n",
        "  print(\"------------------------------------\")\r\n",
        "\r\n"
      ],
      "execution_count": null,
      "outputs": [
        {
          "output_type": "stream",
          "text": [
            " 100 m²\n",
            " 3 quarto(s)\n",
            " 2 banheiro(s)\n",
            " 2 vaga(s)\n",
            "Mobiliado\n",
            "Portaria 24h\n",
            "Elevador\n",
            "Piscina\n",
            "Churrasqueira\n",
            "Salão de Festas\n",
            "Academia\n",
            "Playground\n",
            "Quadra poliesportiva\n",
            "Salão de jogos\n",
            "Aceita animais\n",
            "Aluguel: R$ 4.000,00\n",
            "Condomínio: 500,00\n",
            "IPTU: R$ 100,00\n",
            "Corretora: Tubarão\n",
            "Localização: Oceano Pacífico\n",
            "------------------------------------\n",
            "------------------------------------\n",
            " 60 m²\n",
            " 2 quarto(s)\n",
            " 2 banheiro(s)\n",
            " 1 vaga(s)\n",
            "Mobiliado\n",
            "Portaria 24h\n",
            "Salão de Festas\n",
            "Quadra poliesportiva\n",
            "Aluguel: R$ 2.000,00\n",
            "Condomínio: 200,00\n",
            "IPTU: R$ 50,00\n",
            "Corretora: Carangueijo\n",
            "Localização: Oceano Índico\n",
            "------------------------------------\n",
            "------------------------------------\n",
            " 50 m²\n",
            " 1 quarto(s)\n",
            " 1 banheiro(s)\n",
            " 1 vaga(s)\n",
            "Mobiliado\n",
            "Aluguel: R$ 1.300,00\n",
            "Condomínio: 200,00\n",
            "IPTU: R$ 50,00\n",
            "Corretora: Baleia Azul\n",
            "Localização: Mar de Java\n",
            "------------------------------------\n",
            "------------------------------------\n",
            " 60 m²\n",
            " 2 quarto(s)\n",
            " 2 banheiro(s)\n",
            " 1 vaga(s)\n",
            "Mobiliado\n",
            "Portaria 24h\n",
            "Aluguel: R$ 1.800,00\n",
            "Condomínio: 100,00\n",
            "IPTU: R$ 20,00\n",
            "Corretora: Baleia Azul\n",
            "Localização: Oceano Índico\n",
            "------------------------------------\n",
            "------------------------------------\n",
            " 120 m²\n",
            " 4 quarto(s)\n",
            " 3 banheiro(s)\n",
            " 2 vaga(s)\n",
            "Mobiliado\n",
            "Portaria 24h\n",
            "Elevador\n",
            "Piscina\n",
            "Churrasqueira\n",
            "Salão de Festas\n",
            "Academia\n",
            "Playground\n",
            "Quadra poliesportiva\n",
            "Salão de jogos\n",
            "Aceita animais\n",
            "Aluguel: R$ 3.800,00\n",
            "Condomínio: 500,00\n",
            "IPTU: R$ 200,00\n",
            "Corretora: Tubarão\n",
            "Localização: Oceano Pacífico\n",
            "------------------------------------\n",
            "------------------------------------\n"
          ],
          "name": "stdout"
        }
      ]
    },
    {
      "cell_type": "code",
      "metadata": {
        "id": "h6oJCvrFkbFZ"
      },
      "source": [
        "\r\n"
      ],
      "execution_count": null,
      "outputs": []
    },
    {
      "cell_type": "code",
      "metadata": {
        "id": "fF-DoeuVYg6L"
      },
      "source": [
        "\r\n",
        "\r\n"
      ],
      "execution_count": null,
      "outputs": []
    },
    {
      "cell_type": "code",
      "metadata": {
        "id": "nmkgn3F2Yg-b"
      },
      "source": [
        ""
      ],
      "execution_count": null,
      "outputs": []
    },
    {
      "cell_type": "code",
      "metadata": {
        "id": "moNiQeCoZELv"
      },
      "source": [
        ""
      ],
      "execution_count": null,
      "outputs": []
    },
    {
      "cell_type": "code",
      "metadata": {
        "id": "LedLfI8SaDJp"
      },
      "source": [
        ""
      ],
      "execution_count": null,
      "outputs": []
    },
    {
      "cell_type": "code",
      "metadata": {
        "id": "5JVEarPVaDTY"
      },
      "source": [
        ""
      ],
      "execution_count": null,
      "outputs": []
    },
    {
      "cell_type": "code",
      "metadata": {
        "id": "UESGaeiXaDaz"
      },
      "source": [
        ""
      ],
      "execution_count": null,
      "outputs": []
    }
  ]
}